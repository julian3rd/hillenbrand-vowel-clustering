{
 "cells": [
  {
   "cell_type": "markdown",
   "metadata": {},
   "source": [
    "# Supervised learning of Hillenbrand vowel data\n",
    "\n",
    "This notebook implements the supervised learning of vowel clusters using a Support Vector Machine (SVM). A SVM was ultimately decided on after trying ut several different classifiers (not shown). Predictors/features are the formant values (steady state and various points in between onset and steady-state value). The vowel identities themselves were used as the targets."
   ]
  },
  {
   "cell_type": "code",
   "execution_count": 1,
   "metadata": {
    "collapsed": true
   },
   "outputs": [],
   "source": [
    "# run setup script\n",
    "\n",
    "%run '~/GitHub/hillenbrand-vowel-clustering/scripts/hillenbrand-data-setup.py'"
   ]
  },
  {
   "cell_type": "code",
   "execution_count": 2,
   "metadata": {
    "collapsed": true
   },
   "outputs": [],
   "source": [
    "# reduction via PCA;\n",
    "# not used here, but additional features if so desired\n",
    "\n",
    "from sklearn.decomposition import PCA\n",
    "\n",
    "pca = PCA(n_components = 2)\n",
    "\n",
    "formant_reduced = pca.fit_transform(formant_mtx)\n",
    "formant_ratio_reduced = pca.fit_transform(formant_ratio_mtx)\n",
    "\n",
    "# add PCA columns to hillenbrand_data DataFrame\n",
    "# going to use vowel labels to make interpretation easier\n",
    "# for classification reports and confusion matrices\n",
    "# perhaps not needed for this implementation, but \n",
    "# could be used as additional predictors\n",
    "\n",
    "hillenbrand_data['Formant_PC1'] = formant_reduced[:, 0]\n",
    "hillenbrand_data['Formant_PC2'] = formant_reduced[:, 1]\n",
    "\n",
    "hillenbrand_data['Formant_Ratio_PC1'] = formant_ratio_reduced[:, 0]\n",
    "hillenbrand_data['Formant_Ratio_PC2'] = formant_ratio_reduced[:, 1]"
   ]
  },
  {
   "cell_type": "code",
   "execution_count": 3,
   "metadata": {
    "collapsed": true
   },
   "outputs": [],
   "source": [
    "# import needed modules and functions\n",
    "\n",
    "from sklearn.svm import SVC\n",
    "from sklearn.metrics import classification_report, confusion_matrix\n",
    "from sklearn.grid_search import GridSearchCV\n",
    "from sklearn.pipeline import Pipeline\n",
    "from sklearn.cross_validation import StratifiedKFold, train_test_split "
   ]
  },
  {
   "cell_type": "markdown",
   "metadata": {},
   "source": [
    "## Split into test and train sets\n",
    "\n",
    "The predictors for the classification are:  \n",
    "1. steady-state formant values  \n",
    "2. formant values at 20%, 50%, 80% of steady-state  \n",
    "3. (optional) normalized (z-score) of `1` and `2` above (can help speed up fitting)  \n",
    "\n",
    "There is an 80/20 split between training and test sets."
   ]
  },
  {
   "cell_type": "code",
   "execution_count": 4,
   "metadata": {
    "collapsed": true
   },
   "outputs": [],
   "source": [
    "# data split into train and test sets\n",
    "\n",
    "# 80/20 data split\n",
    "\n",
    "# using untransformed columns to predict\n",
    "# other columns there just in case\n",
    "# normed columns should give same results; \n",
    "# difference is that model should converge faster\n",
    "\n",
    "formant_cols = ['F1', 'F2', 'F3', 'F4', \n",
    "                'F1_20', 'F2_20', 'F3_20', \n",
    "                'F1_50', 'F2_50', 'F3_50',\n",
    "                'F1_80', 'F2_80', 'F3_80']\n",
    "\n",
    "\n",
    "formant_norm_cols = ['F1_zscore', 'F2_zscore', 'F3_zscore', 'F4_zscore', \n",
    "                     'F1_20_zscore', 'F2_20_zscore', 'F3_20_zscore', \n",
    "                     'F1_50_zscore', 'F2_50_zscore', 'F3_50_zscore',\n",
    "                     'F1_80_zscore', 'F2_80_zscore', 'F3_80_zscore']\n",
    "\n",
    "\n",
    "vowel_train, vowel_test, vowel_label_train, vowel_label_test = \\\n",
    "  train_test_split(hillenbrand_data[formant_cols], hillenbrand_data['Vowel'], \n",
    "                   test_size = 0.2, random_state = 8393)"
   ]
  },
  {
   "cell_type": "markdown",
   "metadata": {},
   "source": [
    "## Classifier parameters\n",
    "\n",
    "Several different classifiers were tested and the SVM was the one that performed the best on the initial run, so it was ultimately chosen to classify the data. A polyomial kernel was chosen due to the complexity of the vowel production and perceptual space. A grid search with 5-fold cross-calidation was used to determine the best parameters for `C` (regularization parameter), `gamma` (kernel coefficient) and the polynomial degree (3, 5, 7). `C` and `gamma` were searched over a log space with 7 values so as to keep duration of the process reasonable.  \n",
    "\n",
    "Since class probabilities are also being computer, this will slow down the fitting time."
   ]
  },
  {
   "cell_type": "code",
   "execution_count": 5,
   "metadata": {
    "collapsed": false
   },
   "outputs": [],
   "source": [
    "# set up classifier parameters\n",
    "  \n",
    "svc = ('classifier', SVC(kernel = 'poly', probability = True, random_state = 4748))\n",
    "\n",
    "# creating pipeline (though not really needed since single step)\n",
    "\n",
    "svc_pipeline = Pipeline([svc])\n",
    "\n",
    "# set up parameter grid search\n",
    "\n",
    "svc_params = \\\n",
    "  {'classifier__C': (np.logspace(-4, 3, num = 7)),\n",
    "  'classifier__gamma': (np.logspace(-4, 3, num = 7)),\n",
    "  'classifier__degree': (3, 5, 7)}\n",
    "\n",
    "# create search grid\n",
    "\n",
    "vowel_grid = \\\n",
    "  GridSearchCV(svc_pipeline, svc_params, refit = True, n_jobs = -1,\n",
    "               scoring = 'accuracy', cv = StratifiedKFold(vowel_label_train, n_folds = 5))"
   ]
  },
  {
   "cell_type": "code",
   "execution_count": 6,
   "metadata": {
    "collapsed": false
   },
   "outputs": [
    {
     "name": "stdout",
     "output_type": "stream",
     "text": [
      "CPU times: user 9.76 s, sys: 246 ms, total: 10 s\n",
      "Wall time: 10min 17s\n"
     ]
    }
   ],
   "source": [
    "# fitting using search parameters\n",
    "# takes longer due to calculation of class probabilities\n",
    "\n",
    "%time vowel_detector = vowel_grid.fit(vowel_train, vowel_label_train)"
   ]
  },
  {
   "cell_type": "markdown",
   "metadata": {},
   "source": [
    "## Predictions and performance metrics\n",
    "\n",
    "Metrics of interest:  \n",
    "1. best score  \n",
    "3. best parameters  \n",
    "4. precision, recall, f-1 score (classification report)  \n",
    "5. confusion matrix  "
   ]
  },
  {
   "cell_type": "code",
   "execution_count": 7,
   "metadata": {
    "collapsed": false
   },
   "outputs": [
    {
     "name": "stdout",
     "output_type": "stream",
     "text": [
      "Best parameters from SVM classifying vowels:\n"
     ]
    },
    {
     "data": {
      "text/plain": [
       "{'classifier__C': 0.0001, 'classifier__degree': 7, 'classifier__gamma': 0.0001}"
      ]
     },
     "execution_count": 7,
     "metadata": {},
     "output_type": "execute_result"
    }
   ],
   "source": [
    "print 'Best parameters from SVM classifying vowels:'\n",
    "vowel_detector.best_params_"
   ]
  },
  {
   "cell_type": "code",
   "execution_count": 8,
   "metadata": {
    "collapsed": false
   },
   "outputs": [
    {
     "name": "stdout",
     "output_type": "stream",
     "text": [
      "Best score from 5-cold cross-validation on grid search parameters:\n"
     ]
    },
    {
     "data": {
      "text/plain": [
       "0.89890710382513661"
      ]
     },
     "execution_count": 8,
     "metadata": {},
     "output_type": "execute_result"
    }
   ],
   "source": [
    "print 'Best score from 5-cold cross-validation on grid search parameters:'\n",
    "vowel_detector.best_score_"
   ]
  },
  {
   "cell_type": "code",
   "execution_count": 9,
   "metadata": {
    "collapsed": true
   },
   "outputs": [],
   "source": [
    "# predictions and performance metrics\n",
    "\n",
    "vowel_prediction = vowel_detector.predict(vowel_test)\n",
    "\n",
    "vowel_prediction_probs = vowel_detector.predict_proba(vowel_test)"
   ]
  },
  {
   "cell_type": "code",
   "execution_count": 10,
   "metadata": {
    "collapsed": false
   },
   "outputs": [
    {
     "name": "stdout",
     "output_type": "stream",
     "text": [
      "Target class: Vowel\n",
      "Classification report\n",
      "             precision    recall  f1-score   support\n",
      "\n",
      "         ae       0.94      0.88      0.91        17\n",
      "         ah       0.69      0.73      0.71        15\n",
      "         aw       0.83      0.79      0.81        24\n",
      "         eh       0.81      0.89      0.85        19\n",
      "         ei       0.94      0.94      0.94        18\n",
      "         er       1.00      0.96      0.98        28\n",
      "         ih       0.89      0.96      0.93        26\n",
      "         iy       0.96      0.96      0.96        26\n",
      "         oa       0.81      0.87      0.84        15\n",
      "         oo       0.96      0.92      0.94        26\n",
      "         uh       0.85      0.90      0.88        31\n",
      "         uw       0.92      0.80      0.86        30\n",
      "\n",
      "avg / total       0.89      0.89      0.89       275\n",
      "\n",
      "Confusion matrix\n",
      "[[15  1  0  1  0  0  0  0  0  0  0  0]\n",
      " [ 0 11  3  0  0  0  0  0  0  0  1  0]\n",
      " [ 0  3 19  0  0  0  0  0  0  0  2  0]\n",
      " [ 1  0  0 17  0  0  1  0  0  0  0  0]\n",
      " [ 0  0  0  0 17  0  1  0  0  0  0  0]\n",
      " [ 0  0  0  1  0 27  0  0  0  0  0  0]\n",
      " [ 0  0  0  0  0  0 25  1  0  0  0  0]\n",
      " [ 0  0  0  0  1  0  0 25  0  0  0  0]\n",
      " [ 0  0  0  0  0  0  0  0 13  0  0  2]\n",
      " [ 0  0  0  0  0  0  0  0  0 24  2  0]\n",
      " [ 0  1  1  0  0  0  0  0  0  1 28  0]\n",
      " [ 0  0  0  2  0  0  1  0  3  0  0 24]]\n"
     ]
    }
   ],
   "source": [
    "print 'Target class: Vowel'\n",
    "print 'Classification report'\n",
    "print classification_report(vowel_label_test, vowel_prediction)\n",
    "print 'Confusion matrix'\n",
    "print confusion_matrix(vowel_label_test, vowel_prediction)"
   ]
  },
  {
   "cell_type": "markdown",
   "metadata": {},
   "source": [
    "## Comparison with normalized data\n",
    "Normalizing the data will speed up computation. In this case, the values of some of the performance metrics change as well as the best parameters for fitting the data. A comparison using the normed vowel formant data is below."
   ]
  },
  {
   "cell_type": "code",
   "execution_count": 11,
   "metadata": {
    "collapsed": true
   },
   "outputs": [],
   "source": [
    "vowel_norm_train, vowel_norm_test, vowel_norm_label_train, vowel_norm_label_test = \\\n",
    "  train_test_split(hillenbrand_data[formant_norm_cols], hillenbrand_data['Vowel'], \n",
    "                   test_size = 0.2, random_state = 8393)"
   ]
  },
  {
   "cell_type": "code",
   "execution_count": 12,
   "metadata": {
    "collapsed": false
   },
   "outputs": [
    {
     "name": "stdout",
     "output_type": "stream",
     "text": [
      "CPU times: user 3.6 s, sys: 120 ms, total: 3.72 s\n",
      "Wall time: 46.6 s\n"
     ]
    }
   ],
   "source": [
    "%time vowel_norm_detector = vowel_grid.fit(vowel_norm_train, vowel_norm_label_train)"
   ]
  },
  {
   "cell_type": "code",
   "execution_count": 13,
   "metadata": {
    "collapsed": false
   },
   "outputs": [
    {
     "name": "stdout",
     "output_type": "stream",
     "text": [
      "Best parameters from SVM classifying vowels (z-score formant values):\n"
     ]
    },
    {
     "data": {
      "text/plain": [
       "{'classifier__C': 0.0014677992676220704,\n",
       " 'classifier__degree': 3,\n",
       " 'classifier__gamma': 4.641588833612782}"
      ]
     },
     "execution_count": 13,
     "metadata": {},
     "output_type": "execute_result"
    }
   ],
   "source": [
    "print 'Best parameters from SVM classifying vowels (z-score formant values):'\n",
    "vowel_norm_detector.best_params_"
   ]
  },
  {
   "cell_type": "code",
   "execution_count": 14,
   "metadata": {
    "collapsed": false
   },
   "outputs": [
    {
     "name": "stdout",
     "output_type": "stream",
     "text": [
      "Best score from 5-cold cross-validation on grid search parameters (z-score formant values):\n"
     ]
    },
    {
     "data": {
      "text/plain": [
       "0.89708561020036426"
      ]
     },
     "execution_count": 14,
     "metadata": {},
     "output_type": "execute_result"
    }
   ],
   "source": [
    "print 'Best score from 5-cold cross-validation on grid search parameters (z-score formant values):'\n",
    "vowel_norm_detector.best_score_"
   ]
  },
  {
   "cell_type": "code",
   "execution_count": 15,
   "metadata": {
    "collapsed": true
   },
   "outputs": [],
   "source": [
    "vowel_norm_prediction = vowel_norm_detector.predict(vowel_norm_test)\n",
    "\n",
    "vowel_norm_prediction_probs = vowel_norm_detector.predict_proba(vowel_norm_test)"
   ]
  },
  {
   "cell_type": "code",
   "execution_count": 16,
   "metadata": {
    "collapsed": false
   },
   "outputs": [
    {
     "name": "stdout",
     "output_type": "stream",
     "text": [
      "Target class: Vowel (z-score data)\n",
      "Classification report\n",
      "             precision    recall  f1-score   support\n",
      "\n",
      "         ae       0.83      0.88      0.86        17\n",
      "         ah       0.76      0.87      0.81        15\n",
      "         aw       0.87      0.83      0.85        24\n",
      "         eh       0.62      0.84      0.71        19\n",
      "         ei       1.00      0.94      0.97        18\n",
      "         er       1.00      0.96      0.98        28\n",
      "         ih       0.96      1.00      0.98        26\n",
      "         iy       1.00      1.00      1.00        26\n",
      "         oa       0.93      0.87      0.90        15\n",
      "         oo       0.88      0.88      0.88        26\n",
      "         uh       0.96      0.84      0.90        31\n",
      "         uw       0.93      0.83      0.88        30\n",
      "\n",
      "avg / total       0.91      0.90      0.90       275\n",
      "\n",
      "Confusion matrix (z-score data)\n",
      "[[15  0  0  2  0  0  0  0  0  0  0  0]\n",
      " [ 0 13  2  0  0  0  0  0  0  0  0  0]\n",
      " [ 0  3 20  0  0  0  0  0  0  0  1  0]\n",
      " [ 3  0  0 16  0  0  0  0  0  0  0  0]\n",
      " [ 0  0  0  1 17  0  0  0  0  0  0  0]\n",
      " [ 0  0  0  1  0 27  0  0  0  0  0  0]\n",
      " [ 0  0  0  0  0  0 26  0  0  0  0  0]\n",
      " [ 0  0  0  0  0  0  0 26  0  0  0  0]\n",
      " [ 0  0  0  0  0  0  0  0 13  0  0  2]\n",
      " [ 0  0  0  3  0  0  0  0  0 23  0  0]\n",
      " [ 0  1  1  1  0  0  0  0  0  2 26  0]\n",
      " [ 0  0  0  2  0  0  1  0  1  1  0 25]]\n"
     ]
    }
   ],
   "source": [
    "print 'Target class: Vowel (z-score data)'\n",
    "print 'Classification report'\n",
    "print classification_report(vowel_norm_label_test, vowel_norm_prediction)\n",
    "print 'Confusion matrix (z-score data)'\n",
    "print confusion_matrix(vowel_norm_label_test, vowel_norm_prediction)"
   ]
  },
  {
   "cell_type": "markdown",
   "metadata": {},
   "source": [
    "Overall, the best score from cross-validation between the two representations is about the same. The difference comes from identifying specific vowels. All vowels except `ah` and `eh` had similar precision, f-1 and recall values. This is likely because the formant values are not normally distributed; perhaps scaling in a different manner (e.g., over 2 standard deviations) might resolve this discrepancy."
   ]
  },
  {
   "cell_type": "code",
   "execution_count": 17,
   "metadata": {
    "collapsed": true
   },
   "outputs": [],
   "source": [
    "import sys\n",
    "import IPython"
   ]
  },
  {
   "cell_type": "code",
   "execution_count": 18,
   "metadata": {
    "collapsed": false
   },
   "outputs": [
    {
     "name": "stdout",
     "output_type": "stream",
     "text": [
      "Python version:  2.7.10 |Anaconda 2.3.0 (x86_64)| (default, May 28 2015, 17:04:42) \n",
      "[GCC 4.2.1 (Apple Inc. build 5577)]\n",
      "Platform:  darwin\n",
      "IPython version:  3.2.1\n",
      "NumPy version:  1.9.2\n",
      "Pandas version:  0.16.2\n"
     ]
    }
   ],
   "source": [
    "print 'Python version: ', sys.version\n",
    "print 'Platform: ', sys.platform\n",
    "print 'IPython version: ', IPython.__version__\n",
    "print 'NumPy version: ', np.__version__\n",
    "print 'Pandas version: ', pd.__version__"
   ]
  }
 ],
 "metadata": {
  "kernelspec": {
   "display_name": "Python 2",
   "language": "python",
   "name": "python2"
  },
  "language_info": {
   "codemirror_mode": {
    "name": "ipython",
    "version": 2
   },
   "file_extension": ".py",
   "mimetype": "text/x-python",
   "name": "python",
   "nbconvert_exporter": "python",
   "pygments_lexer": "ipython2",
   "version": "2.7.10"
  }
 },
 "nbformat": 4,
 "nbformat_minor": 0
}
